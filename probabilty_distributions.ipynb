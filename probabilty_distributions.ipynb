{
 "cells": [
  {
   "cell_type": "code",
   "execution_count": 1,
   "metadata": {},
   "outputs": [],
   "source": [
    "#Standard imports plus setting the random seed to ensure reproducibility\n",
    "%matplotlib inline\n",
    "import matplotlib.pyplot as plt\n",
    "import numpy as np\n",
    "import pandas as pd\n",
    "from scipy import stats\n",
    "np.random.seed(123)"
   ]
  },
  {
   "cell_type": "markdown",
   "metadata": {},
   "source": [
    "1)A bank found that the average number of cars waiting during the noon hour at a drive-up window follows a Poisson distribution with a mean of 2 cars. Make a chart of this distribution and answer these questions concerning the probability of cars waiting at the drive-up window.\n",
    "\n",
    "What is the probability that no cars drive up in the noon hour?\n",
    "What is the probability that 3 or more cars come through the drive through?\n",
    "How likely is it that the drive through gets at least 1 car?"
   ]
  },
  {
   "cell_type": "markdown",
   "metadata": {},
   "source": [
    "2)Grades of State University graduates are normally distributed with a mean of 3.0 and a standard deviation of .3. Calculate the following:\n",
    "\n",
    "What grade point average is required to be in the top 5% of the graduating class?\n",
    "What GPA constitutes the bottom 15% of the class?\n",
    "An eccentric alumnus left scholarship money for students in the third decile from the bottom of their class. Determine the range of the third decile. Would a student with a 2.8 grade point average qualify for this scholarship?\n",
    "If I have a GPA of 3.5, what percentile am I in?"
   ]
  },
  {
   "cell_type": "code",
   "execution_count": 11,
   "metadata": {},
   "outputs": [
    {
     "name": "stdout",
     "output_type": "stream",
     "text": [
      "3.4979966744120357\n",
      "3.4934560880854417\n"
     ]
    }
   ],
   "source": [
    "print(np.percentile(np.random.normal(3,.3,10_000),95))\n",
    "print(stats.norm(3,.3).isf(.05))"
   ]
  },
  {
   "cell_type": "code",
   "execution_count": 67,
   "metadata": {},
   "outputs": [
    {
     "data": {
      "image/png": "[encoded data removed]",
      "text/plain": [
       "<Figure size 432x288 with 1 Axes>"
      ]
     },
     "metadata": {
      "needs_background": "light"
     },
     "output_type": "display_data"
    }
   ],
   "source": [
    "\n",
    "plt.hist(test,bins=[2.1,2.4,2.7,3,3.3,3.6,3.9],edgecolor='black')\n",
    "plt.title('Distribution of State University grades')\n",
    "plt.xlabel('GPA')\n",
    "plt.ylabel('Frequency')\n",
    "plt.show()"
   ]
  },
  {
   "cell_type": "code",
   "execution_count": 103,
   "metadata": {},
   "outputs": [
    {
     "data": {
      "text/plain": [
       "0.12014004822363389"
      ]
     },
     "execution_count": 103,
     "metadata": {},
     "output_type": "execute_result"
    }
   ],
   "source": [
    "stats.poisson(.02*4326).sf(97)"
   ]
  },
  {
   "cell_type": "markdown",
   "metadata": {},
   "source": [
    "4)You are working on some statistics homework consisting of 100 questions where all of the answers are a probability rounded to the hundreths place. Looking to save time, you put down random probabilities as the answer to each question.\n",
    "What is the probability that at least one of your first 60 answers is correct?"
   ]
  },
  {
   "cell_type": "code",
   "execution_count": 6,
   "metadata": {},
   "outputs": [
    {
     "name": "stdout",
     "output_type": "stream",
     "text": [
      "0.45157\n",
      "0.4528433576092388\n",
      "0.4528433576092388\n"
     ]
    }
   ],
   "source": [
    "#probability of getting question right is 1% since there are 100 answer choices. Only dealing with first 60 questions\n",
    "print((np.random.binomial(60, .01, 100_000)>=1).mean())\n",
    "print(stats.binom(60,.01).sf(0))\n",
    "print(1-stats.binom(60,.01).cdf(0))"
   ]
  },
  {
   "cell_type": "markdown",
   "metadata": {},
   "source": [
    "6)You want to get lunch at La Panaderia, but notice that the line is usually very long at lunchtime. After several weeks of careful observation, you notice that the average number of people in line when your lunch break starts is normally distributed with a mean of 15 and standard deviation of 3. If it takes 2 minutes for each person to order, and 10 minutes from ordering to getting your food, what is the likelihood that you have at least 15 minutes left to eat your food before you have to go back to class? Assume you have one hour for lunch, and ignore travel time to and from La Panaderia."
   ]
  },
  {
   "cell_type": "code",
   "execution_count": 5,
   "metadata": {},
   "outputs": [
    {
     "name": "stdout",
     "output_type": "stream",
     "text": [
      "0.7927\n",
      "0.7976716190363569\n"
     ]
    }
   ],
   "source": [
    "#Convert the number of people in line to a number of minutes\n",
    "avg_wait_time=2*15\n",
    "std_wait_time=2*3\n",
    "print((np.random.normal(avg_wait_time,std_wait_time,10_000)<=35).mean())\n",
    "print(stats.norm(avg_wait_time,std_wait_time).cdf(35))"
   ]
  },
  {
   "cell_type": "markdown",
   "metadata": {},
   "source": [
    "7)Connect to the employees database and find the average salary of current employees, along with the standard deviation. Model the distribution of employees salaries with a normal distribution and answer the following questions:\n",
    "\n",
    "a)What percent of employees earn less than 60,000?\n",
    "b)What percent of employees earn more than 95,000?\n",
    "c)What percent of employees earn between 65,000 and 80,000?\n",
    "d)What do the top 5% of employees make?"
   ]
  },
  {
   "cell_type": "code",
   "execution_count": 74,
   "metadata": {},
   "outputs": [],
   "source": [
    "#Connect to database\n",
    "from env import host, user, password\n",
    "import pandas as pd\n",
    "def get_db_url():\n",
    "    url = f'mysql+pymysql://{user}:{password}@{host}/employees'\n",
    "    return url\n",
    "\n",
    "url=get_db_url()\n",
    "salaries=pd.read_sql('''SELECT * FROM salaries WHERE to_date>NOW()''',url)"
   ]
  },
  {
   "cell_type": "code",
   "execution_count": 80,
   "metadata": {},
   "outputs": [
    {
     "data": {
      "text/plain": [
       "72012.24"
      ]
     },
     "execution_count": 80,
     "metadata": {},
     "output_type": "execute_result"
    }
   ],
   "source": [
    "#Get average salary from data to use in normal distribution calculation\n",
    "average_salary=np.round(np.mean(salaries.salary),2)\n",
    "average_salary"
   ]
  },
  {
   "cell_type": "code",
   "execution_count": 78,
   "metadata": {},
   "outputs": [
    {
     "data": {
      "text/plain": [
       "17310.0"
      ]
     },
     "execution_count": 78,
     "metadata": {},
     "output_type": "execute_result"
    }
   ],
   "source": [
    "#Get standard deviation of salary to use in normal distribution calculation\n",
    "std_salary=np.round(np.std(salaries.salary))\n",
    "std_salary"
   ]
  },
  {
   "cell_type": "code",
   "execution_count": 106,
   "metadata": {},
   "outputs": [
    {
     "name": "stdout",
     "output_type": "stream",
     "text": [
      "0.270614349252886\n",
      "0.24419\n",
      "0.2438574078313278\n"
     ]
    }
   ],
   "source": [
    "#Percent of employees that earn less than $60,000\n",
    "print((salaries.salary<60_000).mean())\n",
    "print((np.random.normal(average_salary,std_salary,100_000)<60_000).mean())\n",
    "print(stats.norm(average_salary,std_salary).cdf(60_000))"
   ]
  },
  {
   "cell_type": "code",
   "execution_count": 104,
   "metadata": {},
   "outputs": [
    {
     "name": "stdout",
     "output_type": "stream",
     "text": [
      "0.1086272092752078\n",
      "0.0919\n",
      "0.09208829007127312\n"
     ]
    }
   ],
   "source": [
    "#Percent of employees that earn more than $95,000\n",
    "print((salaries.salary>95_000).mean())\n",
    "print((np.random.normal(average_salary,std_salary,100_000)>95_000).mean())\n",
    "print(stats.norm(average_salary,std_salary).sf(95_000))"
   ]
  },
  {
   "cell_type": "code",
   "execution_count": 107,
   "metadata": {},
   "outputs": [
    {
     "name": "stdout",
     "output_type": "stream",
     "text": [
      "0.32511952158051677\n",
      "0.33281999999999995\n",
      "0.33506048676360467\n"
     ]
    }
   ],
   "source": [
    "#Percent of employees that earn between $65,000 and $80,000\n",
    "lt_80=(np.random.normal(average_salary,std_salary,100_000)<=80_000).mean()\n",
    "lt_65=(np.random.normal(average_salary,std_salary,100_000)<=65_000).mean()\n",
    "print((salaries.salary<=80_000).mean()-(salaries.salary<=65_000).mean())\n",
    "print(lt_80-gt_65)\n",
    "print(stats.norm(average_salary,std_salary).cdf(80_000)-stats.norm(average_salary,std_salary).cdf(65_000))"
   ]
  },
  {
   "cell_type": "code",
   "execution_count": null,
   "metadata": {},
   "outputs": [],
   "source": []
  }
 ],
 "metadata": {
  "kernelspec": {
   "display_name": "Python 3",
   "language": "python",
   "name": "python3"
  },
  "language_info": {
   "codemirror_mode": {
    "name": "ipython",
    "version": 3
   },
   "file_extension": ".py",
   "mimetype": "text/x-python",
   "name": "python",
   "nbconvert_exporter": "python",
   "pygments_lexer": "ipython3",
   "version": "3.7.3"
  }
 },
 "nbformat": 4,
 "nbformat_minor": 2
}
